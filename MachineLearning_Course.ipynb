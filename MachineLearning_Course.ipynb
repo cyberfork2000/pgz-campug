{
  "nbformat": 4,
  "nbformat_minor": 0,
  "metadata": {
    "colab": {
      "name": "ML_Course.ipynb",
      "version": "0.3.2",
      "provenance": [],
      "private_outputs": true,
      "collapsed_sections": [
        "nVCOziKFW2-1",
        "_byWDKzJXM1i",
        "usyq6XvWXmPA",
        "76LrgmnsbZaf",
        "v22aFMTeYC-D",
        "-bN9vpUwbBqB",
        "puRR__7TYxPX"
      ],
      "include_colab_link": true
    },
    "kernelspec": {
      "name": "python3",
      "display_name": "Python 3"
    },
    "accelerator": "GPU"
  },
  "cells": [
    {
      "cell_type": "markdown",
      "metadata": {
        "id": "view-in-github",
        "colab_type": "text"
      },
      "source": [
        "<a href=\"https://colab.research.google.com/github/cyberfork2000/pgz-campug/blob/master/MachineLearning_Course.ipynb\" target=\"_parent\"><img src=\"https://colab.research.google.com/assets/colab-badge.svg\" alt=\"Open In Colab\"/></a>"
      ]
    },
    {
      "cell_type": "code",
      "metadata": {
        "id": "xvKv_wL2_o_j",
        "colab_type": "code",
        "colab": {}
      },
      "source": [
        "import matplotlib.pyplot as plt\n",
        "import argparse, torch, torch.nn as nn\n",
        "from torch.utils.data import DataLoader\n",
        "import torch\n",
        "import torch.nn as nn\n",
        "import torch.optim as optim\n",
        "from torchvision import datasets, transforms"
      ],
      "execution_count": 0,
      "outputs": []
    },
    {
      "cell_type": "markdown",
      "metadata": {
        "id": "nVCOziKFW2-1",
        "colab_type": "text"
      },
      "source": [
        "# 1: Preparing The Data\n",
        "PyTorch packages some common datasets like CIFAR10 nicely.  \n",
        "A `DataLoader` is a PyTorch object that prepares data so it can be fed easily into a model."
      ]
    },
    {
      "cell_type": "code",
      "metadata": {
        "id": "JbvrSF1DW-NH",
        "colab_type": "code",
        "colab": {}
      },
      "source": [
        "training_data = DataLoader(\n",
        "                    datasets.CIFAR10('data', train=True, download=True, transform=transforms.ToTensor()),\n",
        "                    batch_size=128, shuffle=True, drop_last=True)\n",
        "\n",
        "test_data = DataLoader(\n",
        "                    datasets.CIFAR10('data', train=False, transform=transforms.ToTensor()),\n",
        "                    batch_size=1000, shuffle=True)"
      ],
      "execution_count": 0,
      "outputs": []
    },
    {
      "cell_type": "code",
      "metadata": {
        "id": "4vMzY3piXBbs",
        "colab_type": "code",
        "colab": {}
      },
      "source": [
        "train_batch = next(iter(training_data))\n",
        "imgs, labels = train_batch\n",
        "\n",
        "# Plot one of the images\n",
        "plt.imshow(imgs[0].permute(1, 2, 0))\n",
        "# Print the corresponding label\n",
        "print(labels[0])"
      ],
      "execution_count": 0,
      "outputs": []
    },
    {
      "cell_type": "markdown",
      "metadata": {
        "id": "_byWDKzJXM1i",
        "colab_type": "text"
      },
      "source": [
        "# 2: Neural Networks Making Predictions"
      ]
    },
    {
      "cell_type": "code",
      "metadata": {
        "id": "_C0FCRXwAqt3",
        "colab_type": "code",
        "colab": {}
      },
      "source": [
        "class OurFirstNeuralNetwork(nn.Module):\n",
        "    \n",
        "    def __init__(self):\n",
        "        super().__init__()\n",
        "        self.linear = nn.Linear(32*32*3, 10)\n",
        "        \n",
        "    def forward(self, img):\n",
        "        x = img.view(-1, 32*32*3) # Flatten 2d image into 1d\n",
        "        x = self.linear(x)\n",
        "        return x"
      ],
      "execution_count": 0,
      "outputs": []
    },
    {
      "cell_type": "code",
      "metadata": {
        "id": "nkmXcITBXfKA",
        "colab_type": "code",
        "colab": {}
      },
      "source": [
        "model = OurFirstNeuralNetwork()\n",
        "predictions = model.forward(imgs)\n",
        "predictions"
      ],
      "execution_count": 0,
      "outputs": []
    },
    {
      "cell_type": "code",
      "metadata": {
        "id": "3oSoU2sxXiH3",
        "colab_type": "code",
        "colab": {}
      },
      "source": [
        "predictions[0]"
      ],
      "execution_count": 0,
      "outputs": []
    },
    {
      "cell_type": "markdown",
      "metadata": {
        "id": "usyq6XvWXmPA",
        "colab_type": "text"
      },
      "source": [
        "# 3: How Good Are Our Predictions?"
      ]
    },
    {
      "cell_type": "code",
      "metadata": {
        "id": "6Jh13OKMXnZt",
        "colab_type": "code",
        "colab": {}
      },
      "source": [
        "def get_accuracy_on_batch(model, batch):\n",
        "    total_correct_predictions = 0\n",
        "    imgs, true_labels = batch\n",
        "    \n",
        "    predictions = model.forward(imgs)\n",
        "    \n",
        "    pred_labels = predictions.argmax(dim=1)\n",
        "    total_correct_predictions += pred_labels.eq(true_labels.view_as(pred_labels)).sum().item()\n",
        "    \n",
        "    num_predictions = len(pred_labels)\n",
        "    percentage_accuracy = (total_correct_predictions / num_predictions) * 100\n",
        "    return percentage_accuracy"
      ],
      "execution_count": 0,
      "outputs": []
    },
    {
      "cell_type": "code",
      "metadata": {
        "id": "wCXXlP3ZXxrX",
        "colab_type": "code",
        "colab": {}
      },
      "source": [
        "test_batch = next(iter(test_data))  # Get some data for testing\n",
        "get_accuracy_on_batch(model, test_batch)"
      ],
      "execution_count": 0,
      "outputs": []
    },
    {
      "cell_type": "markdown",
      "metadata": {
        "id": "76LrgmnsbZaf",
        "colab_type": "text"
      },
      "source": [
        "# 4: The Training Loop"
      ]
    },
    {
      "cell_type": "code",
      "metadata": {
        "id": "9QXKnG1AX1RW",
        "colab_type": "code",
        "colab": {}
      },
      "source": [
        "def training_step(batch, model, optimizer):\n",
        "    \n",
        "    imgs, true_labels = batch\n",
        "    \n",
        "    imgs = imgs.cuda()\n",
        "    true_labels = true_labels.cuda()\n",
        "    \n",
        "    predictions = model.forward(imgs)\n",
        "    \n",
        "    loss = nn.CrossEntropyLoss()(predictions, true_labels)\n",
        "    \n",
        "    optimizer.zero_grad()\n",
        "    loss.backward()\n",
        "    \n",
        "    optimizer.step()\n",
        "    \n",
        "    # This function does not need to return anthing but we will return the loss for logging.\n",
        "    return loss # Add this bit on the fly after having done the first bit of training."
      ],
      "execution_count": 0,
      "outputs": []
    },
    {
      "cell_type": "code",
      "metadata": {
        "id": "ezTiTtXPX4GH",
        "colab_type": "code",
        "colab": {}
      },
      "source": [
        "model = OurFirstNeuralNetwork().cuda()\n",
        "optimizer = torch.optim.Adam(model.parameters(), lr=1e-3)"
      ],
      "execution_count": 0,
      "outputs": []
    },
    {
      "cell_type": "code",
      "metadata": {
        "id": "HdzwZv13X6EA",
        "colab_type": "code",
        "colab": {}
      },
      "source": [
        "for batch in training_data:\n",
        "    training_step(batch, model, optimizer)"
      ],
      "execution_count": 0,
      "outputs": []
    },
    {
      "cell_type": "markdown",
      "metadata": {
        "id": "gtbNl2tQX8bt",
        "colab_type": "text"
      },
      "source": [
        "Same thing but add some logging"
      ]
    },
    {
      "cell_type": "code",
      "metadata": {
        "id": "twdPAV2eX9KS",
        "colab_type": "code",
        "colab": {}
      },
      "source": [
        "for i, batch in enumerate(training_data):\n",
        "    loss = training_step(batch, model, optimizer)    \n",
        "    \n",
        "    if i % 100 == 0: print('Training Loss: {:.3f}'.format(loss.item()))"
      ],
      "execution_count": 0,
      "outputs": []
    },
    {
      "cell_type": "markdown",
      "metadata": {
        "id": "v22aFMTeYC-D",
        "colab_type": "text"
      },
      "source": [
        "# 5: Putting It All Together"
      ]
    },
    {
      "cell_type": "markdown",
      "metadata": {
        "id": "QkJvO2Tsa2ZA",
        "colab_type": "text"
      },
      "source": [
        "We now have everything we need to train a model and test its accuracy."
      ]
    },
    {
      "cell_type": "code",
      "metadata": {
        "id": "6kpxiKvSYH6z",
        "colab_type": "code",
        "colab": {}
      },
      "source": [
        "model = OurFirstNeuralNetwork().cuda()\n",
        "optimizer = torch.optim.Adam(model.parameters(), lr=1e-3)\n",
        "\n",
        "\n",
        "# Train the model\n",
        "for epoch in range(3):\n",
        "    \n",
        "    for i, batch in enumerate(training_data):\n",
        "        loss = training_step(batch, model, optimizer)    \n",
        "\n",
        "        if i % 100 == 0: print('Training Loss: {:.3f}'.format(loss.item()))\n",
        "\n",
        "\n",
        "# Check the model's accuracy on the test data\n",
        "test_batch = next(iter(test_data))\n",
        "get_accuracy_on_batch(model.cpu(), test_batch)"
      ],
      "execution_count": 0,
      "outputs": []
    },
    {
      "cell_type": "markdown",
      "metadata": {
        "id": "-bN9vpUwbBqB",
        "colab_type": "text"
      },
      "source": [
        "# 6: Deep Learning"
      ]
    },
    {
      "cell_type": "code",
      "metadata": {
        "id": "kjncsZ1xYNQy",
        "colab_type": "code",
        "colab": {}
      },
      "source": [
        "class DeepNeuralNetwork(nn.Module):\n",
        "  \n",
        "  def __init__(self):\n",
        "    super().__init__()\n",
        "    self.linear_1 = nn.Linear(32*32*3, 1234)\n",
        "    self.linear_2 = nn.Linear(1234, 1001)\n",
        "    self.linear_3 = nn.Linear(1001, 10)\n",
        "    \n",
        "  def forward(self, x):\n",
        "    x = x.view(-1, 32*32*3)\n",
        "    x = self.linear_1(x)\n",
        "    x = nn.ReLU()(x)\n",
        "    x = self.linear_2(x)\n",
        "    x = nn.ReLU()(x)\n",
        "    x = self.linear_3(x)\n",
        "    return x"
      ],
      "execution_count": 0,
      "outputs": []
    },
    {
      "cell_type": "code",
      "metadata": {
        "id": "4oxqsZGUYRuy",
        "colab_type": "code",
        "colab": {}
      },
      "source": [
        "model = DeepNeuralNetwork().cuda()\n",
        "optimizer = torch.optim.Adam(model.parameters(), lr=1e-3)\n",
        "\n",
        "for epoch in range(3):\n",
        "    \n",
        "    for batch_num, batch in enumerate(training_data):\n",
        "        loss = training_step(batch, model, optimizer)    \n",
        "\n",
        "        if batch_num % 100 == 0: print('Training Loss: {:.3f}'.format(loss.item()))\n",
        "        \n",
        "test_batch = next(iter(test_data))\n",
        "get_accuracy_on_batch(model.cpu(), test_batch)"
      ],
      "execution_count": 0,
      "outputs": []
    },
    {
      "cell_type": "markdown",
      "metadata": {
        "id": "puRR__7TYxPX",
        "colab_type": "text"
      },
      "source": [
        "# 7: CHALLENGER APPROACHING: Convolutional Neural Networks"
      ]
    },
    {
      "cell_type": "code",
      "metadata": {
        "id": "1Zj49yV_YWTD",
        "colab_type": "code",
        "colab": {}
      },
      "source": [
        "class SimpleCNN(nn.Module):\n",
        "    \n",
        "    def __init__(self):\n",
        "        super().__init__()\n",
        "        self.conv = nn.Conv2d(3, 32, kernel_size=3, stride=2)\n",
        "        self.linear = nn.Linear(7200, 10)\n",
        "      \n",
        "    def forward(self, x):\n",
        "        x = self.conv(x)\n",
        "        x = nn.ReLU()(x)\n",
        "        x = x.view(-1, 7200)\n",
        "        x = self.linear(x)\n",
        "        return x"
      ],
      "execution_count": 0,
      "outputs": []
    },
    {
      "cell_type": "code",
      "metadata": {
        "id": "4O_8AJkGY5OU",
        "colab_type": "code",
        "colab": {}
      },
      "source": [
        "model = SimpleCNN().cuda()\n",
        "optimizer = torch.optim.Adam(model.parameters(), lr=1e-3)\n",
        "\n",
        "for epoch in range(3):\n",
        "    \n",
        "    for batch_num, batch in enumerate(training_data):\n",
        "        loss = training_step(batch, model, optimizer)    \n",
        "\n",
        "        if batch_num % 100 == 0: print('Training Loss: {:.3f}'.format(loss.item()))\n",
        "        \n",
        "test_batch = next(iter(test_data))\n",
        "get_accuracy_on_batch(model.cpu(), test_batch)"
      ],
      "execution_count": 0,
      "outputs": []
    },
    {
      "cell_type": "code",
      "metadata": {
        "id": "Q3w6tUI8ZEAh",
        "colab_type": "code",
        "colab": {}
      },
      "source": [
        "class DeepCNN(nn.Module):\n",
        "    \n",
        "    def __init__(self):\n",
        "        super().__init__()\n",
        "        self.conv_1 = nn.Conv2d(3, 32, kernel_size=3, stride=2)\n",
        "        self.conv_2 = nn.Conv2d(32, 32, kernel_size=3, stride=2)\n",
        "        self.conv_3 = nn.Conv2d(32, 32, kernel_size=3, stride=2)\n",
        "        self.conv_4 = nn.Conv2d(32, 32, kernel_size=3, stride=2)\n",
        "        self.linear = nn.Linear(32, 10)\n",
        "      \n",
        "    def forward(self, x):\n",
        "        \n",
        "        x = self.conv_1(x)\n",
        "        x = nn.ReLU()(x)\n",
        "        x = self.conv_2(x)\n",
        "        x = nn.ReLU()(x)\n",
        "        x = self.conv_3(x)\n",
        "        x = nn.ReLU()(x)\n",
        "        x = self.conv_4(x)\n",
        "        x = nn.ReLU()(x)\n",
        "        \n",
        "        x = x.view(-1, 32) \n",
        "        x = self.linear(x)\n",
        "        return x"
      ],
      "execution_count": 0,
      "outputs": []
    },
    {
      "cell_type": "code",
      "metadata": {
        "id": "r9vR6YbuZGaT",
        "colab_type": "code",
        "colab": {}
      },
      "source": [
        "model = DeepCNN().cuda()\n",
        "optimizer = torch.optim.Adam(model.parameters(), lr=1e-3)\n",
        "\n",
        "for epoch in range(10):\n",
        "    \n",
        "    for batch_num, batch in enumerate(training_data):\n",
        "        loss = training_step(batch, model, optimizer)    \n",
        "\n",
        "        if batch_num % 100 == 0: print('Training Loss: {:.3f}'.format(loss.item()))\n",
        "        \n",
        "test_batch = next(iter(test_data))\n",
        "get_accuracy_on_batch(model.cpu(), test_batch)"
      ],
      "execution_count": 0,
      "outputs": []
    }
  ]
}